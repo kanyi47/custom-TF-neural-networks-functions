{
 "cells": [
  {
   "cell_type": "code",
   "execution_count": null,
   "id": "2e2d9bd9-7ee5-4070-a7c3-136c73502f74",
   "metadata": {},
   "outputs": [],
   "source": [
    "#chapter 11 exercise\n",
    "import keras\n",
    "import tensorflow as tf\n",
    "\n",
    "class LayerNormalization(keras.normalizer.Normalizer):\n",
    "    def __init__(self, eps=0.001, **kwargs):\n",
    "        super().__init__(**kwargs)\n",
    "        self.eps=eps\n",
    "    def build(self, batch_input_shape):\n",
    "        self.alpha = self.add_weight(name=\"alpha\", shape=batch_input_shape[-1:], initializer=\"ones\")\n",
    "        self.bet = self.add_weight(name=\"beta\", shape=batch_input_shape[-1:], initializer=\"zeros\")\n",
    "        super().build(input_shape)\n",
    "        \n",
    "    def call(self, X):\n",
    "        mean, variance = tf.nn.moments(X, axes=-1, keepdims=True)\n",
    "        return self.alphe * (X - mean) / (tf.sqrt(variance + self.eps)) + self.beta\n",
    "    def compute_output_shape(self, batch_input_shape):\n",
    "        return batch_input_shape\n",
    "    \n",
    "    def get_config(self):\n",
    "        base_config=super().get_config()\n",
    "        return {**base_config, \"eps\": self.eps}\n",
    "        "
   ]
  }
 ],
 "metadata": {
  "kernelspec": {
   "display_name": "neural_networks",
   "language": "python",
   "name": "neural_networks"
  },
  "language_info": {
   "codemirror_mode": {
    "name": "ipython",
    "version": 3
   },
   "file_extension": ".py",
   "mimetype": "text/x-python",
   "name": "python",
   "nbconvert_exporter": "python",
   "pygments_lexer": "ipython3",
   "version": "3.9.13"
  }
 },
 "nbformat": 4,
 "nbformat_minor": 5
}
