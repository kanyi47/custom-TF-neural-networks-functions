{
 "cells": [
  {
   "cell_type": "markdown",
   "id": "21e02594-efa2-4ba0-881e-b72c9a69b2d9",
   "metadata": {},
   "source": [
    "## let's create a custom layer normalization function"
   ]
  },
  {
   "cell_type": "code",
   "execution_count": 3,
   "id": "3c79b658-2ee1-4a20-9ac4-6a56ac78b7f2",
   "metadata": {},
   "outputs": [
    {
     "name": "stdout",
     "output_type": "stream",
     "text": [
      "The tensorboard extension is already loaded. To reload it, use:\n",
      "  %reload_ext tensorboard\n"
     ]
    }
   ],
   "source": [
    "# import the necessary packages\n",
    "import sys\n",
    "assert sys.version_info >=(3, 5)\n",
    "\n",
    "#import sklearn, tensorflow, keras\n",
    "import sklearn\n",
    "import tensorflow as tf\n",
    "from tensorflow import keras\n",
    "\n",
    "%load_ext tensorboard\n",
    "\n",
    "#imnport common packages\n",
    "import numpy as np\n",
    "import os\n",
    "\n",
    "#set random seed\n",
    "np.random.seed(42)\n",
    "tf.random.set_seed(42)"
   ]
  },
  {
   "cell_type": "markdown",
   "id": "49ad4d56-b485-484f-afb4-b44cf2b6e244",
   "metadata": {},
   "source": [
    "## Create a layer normalizer"
   ]
  },
  {
   "cell_type": "code",
   "execution_count": null,
   "id": "307c8367-1b23-4622-af54-6c668cb2485e",
   "metadata": {},
   "outputs": [],
   "source": [
    "class LayerNormalization(keras.layers.Layer):\n",
    "    def __init__(self, eps=0.001, **kwargs):\n",
    "        super().__init__(**kwargs)\n",
    "        self.eps = eps\n",
    "        \n",
    "    def build(self, batch_input-shape):\n",
    "        self.alpha = self.add_weight(name=\"alpha\", shape = batch_input_shape[-1:], initializer= \"ones\")\n",
    "        self.beta = self.add_weight(name=\"beta\", shape= batch_input_shape[-1:], initiliazer=\"zeros\")\n",
    "        super().build(batch_input_shape)\n",
    "    \n",
    "    def call(self, X):\n",
    "        mean, variance = tf.nn.moments(X, axes=-1, keepdims=True)\n",
    "        return self.alpha * (X - mean) / (tf.sqrt(variance + self.eps)) + self.beta\n",
    "    \n",
    "    def compute_output_shape(self, batch_input_shape):\n",
    "        return batch_input_shape\n",
    "    \n",
    "    def get_config(self):\n",
    "        base_config = super().get_config()\n",
    "        return {**base_config, \"eps\": self.eps}\n",
    "    "
   ]
  }
 ],
 "metadata": {
  "kernelspec": {
   "display_name": "neural_networks",
   "language": "python",
   "name": "neural_networks"
  },
  "language_info": {
   "codemirror_mode": {
    "name": "ipython",
    "version": 3
   },
   "file_extension": ".py",
   "mimetype": "text/x-python",
   "name": "python",
   "nbconvert_exporter": "python",
   "pygments_lexer": "ipython3",
   "version": "3.9.13"
  }
 },
 "nbformat": 4,
 "nbformat_minor": 5
}
